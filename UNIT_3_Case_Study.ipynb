{
  "cells": [
    {
      "cell_type": "markdown",
      "metadata": {
        "id": "feKpsh1RG3f3"
      },
      "source": [
        "# STATISTICS FOR CS\n",
        "* Section - A\n",
        "* 5th Semester\n",
        "* CASE STUDY - \"MENTAL HEALTH IN TECH\""
      ]
    },
    {
      "cell_type": "markdown",
      "metadata": {
        "id": "vrBW6oL5G9DE"
      },
      "source": [
        "## GROUP MEMBERS\n",
        "- **CHATURTH R** [21BCS025]\n",
        "- **KAKARAPU MOURYA** [21BCS049]\n",
        "- **KARTHIK AVINASH** [21BCS052]"
      ]
    },
    {
      "cell_type": "markdown",
      "metadata": {
        "id": "73tMQY9oHFYq"
      },
      "source": [
        "_____________\n",
        "# 1.Runs Test\n",
        "______________"
      ]
    },
    {
      "cell_type": "markdown",
      "metadata": {
        "id": "vX2NZUce87mU"
      },
      "source": [
        "_____________________________________________\n",
        "- **Null Hypothesis (H0):**  There is no association between getting treatment and having a family history of mental health issues.\n",
        "\n",
        "- **Alternative Hypothesis (H1):**  There is an association between getting treatment and having a family history of mental health issues.\n",
        "_________________________________________________"
      ]
    },
    {
      "cell_type": "code",
      "execution_count": null,
      "metadata": {
        "colab": {
          "base_uri": "https://localhost:8080/"
        },
        "id": "IiqguBXxG7Td",
        "outputId": "fa38ad7d-abc5-4acf-a66a-9ec4346fa060"
      },
      "outputs": [
        {
          "name": "stdout",
          "output_type": "stream",
          "text": [
            "Requirement already satisfied: statsmodels in /usr/local/lib/python3.10/dist-packages (0.14.0)\n",
            "Requirement already satisfied: numpy>=1.18 in /usr/local/lib/python3.10/dist-packages (from statsmodels) (1.23.5)\n",
            "Requirement already satisfied: scipy!=1.9.2,>=1.4 in /usr/local/lib/python3.10/dist-packages (from statsmodels) (1.11.2)\n",
            "Requirement already satisfied: pandas>=1.0 in /usr/local/lib/python3.10/dist-packages (from statsmodels) (1.5.3)\n",
            "Requirement already satisfied: patsy>=0.5.2 in /usr/local/lib/python3.10/dist-packages (from statsmodels) (0.5.3)\n",
            "Requirement already satisfied: packaging>=21.3 in /usr/local/lib/python3.10/dist-packages (from statsmodels) (23.1)\n",
            "Requirement already satisfied: python-dateutil>=2.8.1 in /usr/local/lib/python3.10/dist-packages (from pandas>=1.0->statsmodels) (2.8.2)\n",
            "Requirement already satisfied: pytz>=2020.1 in /usr/local/lib/python3.10/dist-packages (from pandas>=1.0->statsmodels) (2023.3.post1)\n",
            "Requirement already satisfied: six in /usr/local/lib/python3.10/dist-packages (from patsy>=0.5.2->statsmodels) (1.16.0)\n"
          ]
        }
      ],
      "source": [
        "!pip install statsmodels"
      ]
    },
    {
      "cell_type": "code",
      "execution_count": null,
      "metadata": {
        "colab": {
          "base_uri": "https://localhost:8080/"
        },
        "id": "gWnoXWH0GctP",
        "outputId": "1e938cfc-dfd7-4acc-8fe2-90d884e442d7"
      },
      "outputs": [
        {
          "name": "stdout",
          "output_type": "stream",
          "text": [
            "Step1: Hypothesis Statement and Claim: \n",
            "Hypothesis_statement:  People have filled the form for mental health in tech in random, according to gender (Claim). \n",
            "Alternative Statement:  People have not filled the form for mental health in tech in random, according to gender. \n",
            "\n",
            "Step 2: Finding Number of Runs:\n",
            "Runs of gender:\n",
            "1 F's\n",
            "5 M's\n",
            "1 F's\n",
            "1 M's\n",
            "1 F's\n",
            "3 M's\n",
            "1 F's\n",
            "2 M's\n",
            "1 F's\n",
            "3 M's\n",
            "1 F's\n",
            "Number of males(n1): 14\n",
            "Number of females(n2): 6\n",
            "\n",
            "Step 3: Finding the critical value.\n",
            "\n",
            "Step 4: Decision\n",
            "We do not reject the null hypothesis.\n",
            "\n",
            "Step 5: Summary\n",
            "There is no enough evidence to reject the null hypothesis. \n",
            "\t=> People have filled the form for mental health in random, according to gender.\n"
          ]
        }
      ],
      "source": [
        "Hypothesis_statement = \"People have filled the form for mental health in tech in random, according to gender (Claim).\"\n",
        "Alternative_statement = \"People have not filled the form for mental health in tech in random, according to gender.\"\n",
        "\n",
        "print(\"Step1: Hypothesis Statement and Claim: \\nHypothesis_statement: \",Hypothesis_statement,\"\\nAlternative Statement: \",Alternative_statement,\"\\n\")\n",
        "timeStamp_Gender = [[\"11:29\",\"F\"],[\"11:29\",\"M\"],[\"11:29\",\"M\"],[\"11:29\",\"M\"],[\"11:30\",\"M\"],\n",
        "                    [\"11:31\",\"M\"],[\"11:31\",\"F\"],[\"11:32\",\"M\"],[\"11:32\",\"F\"],[\"11:32\",\"M\"],\n",
        "                    [\"11:32\",\"M\"],[\"11:32\",\"M\"],[\"11:33\",\"F\"],[\"11:33\",\"M\"],[\"11:33\",\"M\"],\n",
        "                    [\"11:34\",\"F\"],[\"11:34\",\"M\"],[\"11:34\",\"M\"],[\"11:34\",\"M\"],[\"11:35\",\"F\"]]\n",
        "\n",
        "print(\"Step 2: Finding Number of Runs:\")\n",
        "runs = []\n",
        "current_run = [timeStamp_Gender[0][1]]\n",
        "for i in range(1, len(timeStamp_Gender)):\n",
        "    if timeStamp_Gender[i][1] == current_run[-1]:\n",
        "        current_run.append(timeStamp_Gender[i][1])\n",
        "    else:\n",
        "        runs.append(current_run)\n",
        "        current_run = [timeStamp_Gender[i][1]]\n",
        "\n",
        "runs.append(current_run)\n",
        "\n",
        "print(\"Runs of gender:\")\n",
        "for run in runs:\n",
        "    print(f\"{len(run)} {run[0]}'s\")\n",
        "r = len(runs)\n",
        "\n",
        "male_count = 0\n",
        "female_count = 0\n",
        "\n",
        "for _, gender in timeStamp_Gender:\n",
        "    if gender == \"M\":\n",
        "        male_count += 1\n",
        "    elif gender == \"F\":\n",
        "        female_count += 1\n",
        "\n",
        "print(\"Number of males(n1):\", male_count)\n",
        "print(\"Number of females(n2):\", female_count)\n",
        "\n",
        "n1 = male_count\n",
        "n2 = female_count\n",
        "\n",
        "print(\"\\nStep 3: Finding the critical value.\")\n",
        "\n",
        "n1 = male_count\n",
        "n2 = female_count\n",
        "alpha = 0.05\n",
        "\n",
        "critical_lower = 5\n",
        "critical_upper = 14\n",
        "\n",
        "print(\"\\nStep 4: Decision\")\n",
        "reject = True\n",
        "if r >= critical_lower and r <= critical_upper:\n",
        "    print(\"We do not reject the null hypothesis.\")\n",
        "    reject = False\n",
        "else:\n",
        "    print(\"We do reject the null hypothesis.\")\n",
        "    reject = True\n",
        "\n",
        "print(\"\\nStep 5: Summary\")\n",
        "if reject: print(\"There is enough evidence to reject the null hypothesis that people have filled the form for mental health in random, according to gender.\")\n",
        "else: print(\"There is no enough evidence to reject the null hypothesis. \\n\\t=> People have filled the form for mental health in random, according to gender.\")"
      ]
    },
    {
      "cell_type": "markdown",
      "metadata": {
        "id": "XyJ_XyxzHca2"
      },
      "source": [
        "_____________\n",
        "# 2. Sign Test - One Sample\n",
        "_____________"
      ]
    },
    {
      "cell_type": "markdown",
      "metadata": {
        "id": "qxynXdWPb5ck"
      },
      "source": [
        "____________________________________________________\n",
        "\n",
        "*   **Null Hypothesis:** The population median age is equal to the hypothesized\n",
        "value.\n",
        "*   **Alternative Hypothesis:** There is a significant difference between the population median age and the hypothesized value.\n",
        "____________________________________________________"
      ]
    },
    {
      "cell_type": "code",
      "execution_count": null,
      "metadata": {
        "colab": {
          "base_uri": "https://localhost:8080/"
        },
        "id": "RfukMomHHjgu",
        "outputId": "049270b5-a593-4922-ed4b-f27fd19edadc"
      },
      "outputs": [
        {
          "name": "stdout",
          "output_type": "stream",
          "text": [
            "Hypotheses:\n",
            "  Null Hypothesis (H0): The population median age is equal to 30.\n",
            "  Alternative Hypothesis (H1): There is a significant difference between the population median age and 30.\n",
            "\n",
            "Test Value: 5\n",
            "Result: Fail to reject the null hypothesis\n"
          ]
        }
      ],
      "source": [
        "import pandas as pd\n",
        "from scipy.stats import binom_test\n",
        "\n",
        "hypothesized_median = 30\n",
        "\n",
        "data = {\n",
        "    'Age': [37, 44, 32, 31, 31, 33, 35, 39, 42, 23, 31, 29, 42, 36, 27, 29, 23, 32, 46, 36],\n",
        "}\n",
        "\n",
        "df = pd.DataFrame(data)\n",
        "\n",
        "subset = df[['Age']].head(20)\n",
        "\n",
        "subset['Signs'] = subset['Age'].apply(lambda x: '+' if x > hypothesized_median else '-' if x < hypothesized_median else '0')\n",
        "\n",
        "if subset['Signs'].eq('0').all():\n",
        "    print(\"Data supports the null hypothesis. Stop.\")\n",
        "else:\n",
        "    positive_count = subset[subset['Signs'] == '+'].shape[0]\n",
        "    negative_count = subset[subset['Signs'] == '-'].shape[0]\n",
        "    test_value = min(positive_count, negative_count)\n",
        "\n",
        "    alpha = 0.05\n",
        "    critical_value = 4\n",
        "\n",
        "    if test_value <= critical_value:\n",
        "        result = 'Reject the null hypothesis'\n",
        "    else:\n",
        "        result = 'Fail to reject the null hypothesis'\n",
        "\n",
        "    print(f'Hypotheses:')\n",
        "    print(f'  Null Hypothesis (H0): The population median age is equal to {hypothesized_median}.')\n",
        "    print(f'  Alternative Hypothesis (H1): There is a significant difference between the population median age and {hypothesized_median}.')\n",
        "    print()\n",
        "    print(f'Test Value: {test_value}')\n",
        "    print(f'Result: {result}')\n"
      ]
    },
    {
      "cell_type": "markdown",
      "metadata": {
        "id": "nHhIVY7jHko8"
      },
      "source": [
        "___________________\n",
        "# 3. Paired Sample - Sign Test\n",
        "__________"
      ]
    },
    {
      "cell_type": "markdown",
      "metadata": {
        "id": "Qzqcp8s4JLIN"
      },
      "source": [
        "_______________________\n",
        "- **Null Hypothesis (H0):** There is no relationship between having a family history of mental illness and the likelihood of seeking treatment for a mental health condition.\n",
        "\n",
        "- **Alternative Hypothesis (H1):** There is a relationship between having a family history of mental illness and the likelihood of seeking treatment for a mental health condition.\n",
        "___________________________________"
      ]
    },
    {
      "cell_type": "code",
      "execution_count": null,
      "metadata": {
        "colab": {
          "base_uri": "https://localhost:8080/"
        },
        "id": "56wRio5JWYFJ",
        "outputId": "c4f0da31-775e-4a4a-e56f-b980748abd74"
      },
      "outputs": [
        {
          "name": "stdout",
          "output_type": "stream",
          "text": [
            "Step 2: Differences = [0, -1, 0, 0, 0, 0, 0, -1, -1, -1, -1, 0, 0, 0, -1, 0, -1, 0, 0, 1, 0, 0, -1, 0, 0]\n",
            "Step 3: Positive Differences = 1\n",
            "Step 3: Negative Differences = 8\n",
            "Step 4: Test Value = 1\n",
            "Step 5: Sample Size (n) = 25\n",
            "Step 5: For Small Samples (n < 26):\n",
            "  - Critical Value = 10\n",
            "  - |Test Value| <= Critical Value ? True\n",
            "Result: Do not reject the null hypothesis\n"
          ]
        }
      ],
      "source": [
        "import pandas as pd\n",
        "import numpy as np\n",
        "from scipy import stats\n",
        "\n",
        "additional_data = {\n",
        "    'family_history': ['Yes', 'No', 'No', 'No', 'Yes', 'No', 'Yes', 'No', 'No', 'No', 'No', 'Yes', 'Yes', 'Yes', 'No', 'No', 'No', 'No', 'Yes', 'Yes', 'Yes', 'Yes', 'No', 'Yes', 'No'],\n",
        "    'treatment': ['Yes', 'Yes', 'No', 'No', 'Yes', 'No', 'Yes', 'Yes', 'Yes', 'Yes', 'Yes', 'Yes', 'Yes', 'Yes', 'Yes', 'No', 'Yes', 'No', 'Yes', 'No', 'Yes', 'Yes', 'Yes', 'Yes', 'No']\n",
        "}\n",
        "\n",
        "data = pd.DataFrame(additional_data)\n",
        "\n",
        "family_history = data['family_history'].map({'Yes': 1, 'No': 0})\n",
        "treatment = data['treatment'].map({'Yes': 1, 'No': 0})\n",
        "differences = family_history - treatment\n",
        "\n",
        "positive_diff = np.sum(differences > 0)\n",
        "negative_diff = np.sum(differences < 0)\n",
        "\n",
        "test_value = min(positive_diff, negative_diff)\n",
        "\n",
        "n = len(differences)\n",
        "\n",
        "if n < 26:\n",
        "    critical_value = 10\n",
        "    if abs(test_value) <= critical_value:\n",
        "        result = \"Do not reject the null hypothesis\"\n",
        "    else:\n",
        "        result = \"Reject the null hypothesis\"\n",
        "else:\n",
        "    alpha = 0.05\n",
        "    z_critical = stats.norm.ppf(1 - alpha / 2)\n",
        "    test_statistic = (test_value - 0.5) / np.sqrt(n * 0.25)\n",
        "\n",
        "    if abs(test_statistic) <= z_critical:\n",
        "        result = \"Do not reject the null hypothesis\"\n",
        "    else:\n",
        "        result = \"Reject the null hypothesis\"\n",
        "\n",
        "print(\"Step 2: Differences =\", differences.tolist())\n",
        "print(\"Step 3: Positive Differences =\", positive_diff)\n",
        "print(\"Step 3: Negative Differences =\", negative_diff)\n",
        "print(\"Step 4: Test Value =\", test_value)\n",
        "print(\"Step 5: Sample Size (n) =\", n)\n",
        "\n",
        "if n < 26:\n",
        "    print(\"Step 5: For Small Samples (n < 26):\")\n",
        "    print(f\"  - Critical Value = {critical_value}\")\n",
        "    print(f\"  - |Test Value| <= Critical Value ? {abs(test_value) <= critical_value}\")\n",
        "else:\n",
        "    print(\"Step 5: For Large Samples (n >= 26):\")\n",
        "    print(f\"  - Significance Level (alpha) = {alpha}\")\n",
        "    print(f\"  - Z-Critical Value = {z_critical}\")\n",
        "    print(f\"  - Test Statistic = {test_statistic}\")\n",
        "    print(f\"  - |Test Statistic| <= Z-Critical Value ? {abs(test_statistic) <= z_critical}\")\n",
        "\n",
        "print(\"Result:\", result)"
      ]
    },
    {
      "cell_type": "markdown",
      "metadata": {
        "id": "fs8WgyaeH_lh"
      },
      "source": [
        "________________\n",
        "# 4. Wilcoxon Rank Sum Test or Mann-Whitney U test\n",
        "_________________"
      ]
    },
    {
      "cell_type": "markdown",
      "metadata": {
        "id": "rz6boAA1Yq5t"
      },
      "source": [
        "_____________________________\n",
        "- **Null Hypothesis (H0):**  There is no difference in the ages of individuals who have received mental health treatment and those who have not received treatment.\n",
        "\n",
        "- **Alternative Hypothesis (H1):**  There is a difference in the ages of individuals who have received mental health treatment and those who have not received treatment (claim).\n",
        "__________________________________"
      ]
    },
    {
      "cell_type": "code",
      "execution_count": null,
      "metadata": {
        "colab": {
          "base_uri": "https://localhost:8080/"
        },
        "id": "Lr2f7XoHIJR1",
        "outputId": "7d5e73c3-7fe2-4532-98f3-f20c44293bf0"
      },
      "outputs": [
        {
          "name": "stdout",
          "output_type": "stream",
          "text": [
            "Step 1: State the hypotheses and identify the claim.\n",
            "H0: There is no difference in the ages of individuals who have received mental health treatment and those who have not received treatment.\n",
            "H1: There is a difference in the ages of individuals who have received mental health treatment and those who have not received treatment (claim).\n",
            "\n",
            "Step 2: Find the critical value.\n",
            "Using alpha (α) significance level (e.g., α = 0.05) and a two-tailed test.\n",
            "\n",
            "Step 3: Compute the test value.\n",
            "a. Combine the data from the two groups.\n",
            "b. Calculate the Mann-Whitney U Statistic (U): 23.5\n",
            "c. Calculate the standard error (sigma_r): 4.69041575982343\n",
            "\n",
            "Step 4: Use these formulas to find the test value.\n",
            "Critical Value (z_critical): 1.9599639845400545\n",
            "\n",
            "Step 5: Make the decision.\n",
            "Reject the null hypothesis. There is a significant difference in ages between the two groups.\n",
            "Step 6: Summarize the results.\n",
            "Based on the Mann-Whitney U test, there is sufficient evidence to conclude that there is a significant difference in ages between the two groups.\n",
            "This suggests that age is associated with whether individuals received mental health treatment or not.\n"
          ]
        }
      ],
      "source": [
        "import pandas as pd\n",
        "from scipy.stats import mannwhitneyu, norm\n",
        "\n",
        "data = pd.DataFrame({\n",
        "    \"Age\": [55, 60, 65, 70, 75, 80, 40, 45, 50, 55],\n",
        "    \"treatment\": [\"Yes\", \"Yes\", \"Yes\", \"Yes\", \"Yes\", \"Yes\", \"No\", \"No\", \"No\", \"No\"],\n",
        "})\n",
        "\n",
        "group1 = data[data[\"treatment\"] == \"Yes\"]\n",
        "group2 = data[data[\"treatment\"] == \"No\"]\n",
        "\n",
        "ages_group1 = group1[\"Age\"].values\n",
        "ages_group2 = group2[\"Age\"].values\n",
        "\n",
        "U, p_value = mannwhitneyu(ages_group1, ages_group2, alternative=\"two-sided\")\n",
        "\n",
        "n1 = len(ages_group1)\n",
        "n2 = len(ages_group2)\n",
        "sigma_r = ((n1 * n2 * (n1 + n2 + 1)) / 12) ** 0.5\n",
        "\n",
        "alpha = 0.05\n",
        "\n",
        "print(\"Step 1: State the hypotheses and identify the claim.\")\n",
        "print(\"H0: There is no difference in the ages of individuals who have received mental health treatment and those who have not received treatment.\")\n",
        "print(\"H1: There is a difference in the ages of individuals who have received mental health treatment and those who have not received treatment (claim).\\n\")\n",
        "\n",
        "print(\"Step 2: Find the critical value.\")\n",
        "print(\"Using alpha (α) significance level (e.g., α = 0.05) and a two-tailed test.\\n\")\n",
        "\n",
        "print(\"Step 3: Compute the test value.\")\n",
        "print(\"a. Combine the data from the two groups.\")\n",
        "print(\"b. Calculate the Mann-Whitney U Statistic (U):\", U)\n",
        "print(\"c. Calculate the standard error (sigma_r):\", sigma_r)\n",
        "\n",
        "z_critical = abs(norm.ppf(alpha / 2))\n",
        "\n",
        "print(\"\\nStep 4: Use these formulas to find the test value.\")\n",
        "print(f\"Critical Value (z_critical): {z_critical}\\n\")\n",
        "\n",
        "if p_value < alpha:\n",
        "    print(\"Step 5: Make the decision.\")\n",
        "    print(\"Reject the null hypothesis. There is a significant difference in ages between the two groups.\")\n",
        "else:\n",
        "    print(\"Step 5: Make the decision.\")\n",
        "    print(\"Fail to reject the null hypothesis. There is no significant difference in ages between the two groups.\")\n",
        "\n",
        "if p_value < alpha:\n",
        "    print(\"Step 6: Summarize the results.\")\n",
        "    print(\"Based on the Mann-Whitney U test, there is sufficient evidence to conclude that there is a significant difference in ages between the two groups.\")\n",
        "    print(\"This suggests that age is associated with whether individuals received mental health treatment or not.\")\n",
        "else:\n",
        "    print(\"Step 6: Summarize the results.\")\n",
        "    print(\"Based on the Mann-Whitney U test, there is insufficient evidence to conclude that there is a significant difference in ages between the two groups.\")\n",
        "    print(\"This suggests that age may not be associated with whether individuals received mental health treatment or not.\")\n"
      ]
    },
    {
      "cell_type": "markdown",
      "metadata": {
        "id": "-DfpcEggIKTP"
      },
      "source": [
        "________________________\n",
        "# 5. Wilcoxon Signed Rank Test\n",
        "\n",
        "_______________"
      ]
    },
    {
      "cell_type": "markdown",
      "metadata": {
        "id": "5u-UTGqvY6vO"
      },
      "source": [
        "___________________________\n",
        "- Hypothesis Statement:\n",
        "The participation in a wellness program has a significant effect on reducing the mental health consequences reported by employees in a tech company.\n",
        "\n",
        "- **Null Hypothesis (H0):**\n",
        "There is no significant difference in the mental health consequences reported by employees in a tech company before and after participating in a wellness program.\n",
        "\n",
        "- **Alternative Hypothesis (H1):**\n",
        "Participating in a wellness program is associated with a reduction in the mental health consequences reported by employees in a tech company.\n",
        "_________________________________________"
      ]
    },
    {
      "cell_type": "code",
      "execution_count": null,
      "metadata": {
        "colab": {
          "base_uri": "https://localhost:8080/"
        },
        "id": "OvcRn_79ITBB",
        "outputId": "107590e0-1844-4c4a-9439-9d4c741e8d0e"
      },
      "outputs": [
        {
          "name": "stdout",
          "output_type": "stream",
          "text": [
            "Step 1: State the hypotheses and identify the claim.\n",
            "Hypothesis Statement:\n",
            "The participation in a wellness program has a significant effect on reducing the mental health consequences reported by employees in a tech company.\n",
            "\n",
            "Null Hypothesis (H0):\n",
            "There is no significant difference in the mental health consequences reported by employees in a tech company before and after participating in a wellness program.\n",
            "\n",
            "Alternative Hypothesis (H1):\n",
            "Participating in a wellness program is associated with a reduction in the mental health consequences reported by employees in a tech company.\n",
            "\n",
            "Step 3: Compute the test value.\n",
            "a. Make a table, as shown.\n",
            " mental_health_consequence_before  mental_vs_physical_after  difference  absolute_difference  rank  signed_rank\n",
            "                                3                         2           1                    1   7.0          7.0\n",
            "                                2                         1           1                    1   7.0          7.0\n",
            "                                1                         1           0                    0   2.0          0.0\n",
            "                                4                         3           1                    1   7.0          7.0\n",
            "                                2                         2           0                    0   2.0          0.0\n",
            "                                5                         4           1                    1   7.0          7.0\n",
            "                                3                         2           1                    1   7.0          7.0\n",
            "                                1                         1           0                    0   2.0          0.0\n",
            "                                2                         1           1                    1   7.0          7.0\n",
            "                                4                         3           1                    1   7.0          7.0\n",
            "\n",
            "b. Find the differences (before-after), and place the values in the Difference column.\n",
            "\n",
            "c. Find the absolute value of each difference, and place the results in the Absolute value column.\n",
            "\n",
            "d. Rank each absolute value from lowest to highest, and place the rankings in the Rank column.\n",
            "\n",
            "e. Give each rank a positive or negative sign, according to the sign in the Difference column.\n",
            "\n",
            "f. Find the sum of the positive ranks and the sum of the negative ranks separately.\n",
            "g. Select the smaller of the absolute values of the sums, and use this absolute value as the test value Ws.\n",
            "Test Value (Ws): 0.0\n",
            "\n",
            "Step 4: Make the decision.\n",
            "Critical Value: 52\n",
            "Reject the null hypothesis. There is a significant difference.\n",
            "\n",
            "Step 5: Summarize the results\n",
            "Based on the Wilcoxon Signed-rank Test, there is sufficient evidence to conclude that participating in the wellness program is associated with a reduction in the mental health consequences reported by employees in the tech company.\n"
          ]
        }
      ],
      "source": [
        "import pandas as pd\n",
        "\n",
        "data = pd.DataFrame({\n",
        "    \"mental_health_consequence_before\": [3, 2, 1, 4, 2, 5, 3, 1, 2, 4],\n",
        "    \"mental_vs_physical_after\": [2, 1, 1, 3, 2, 4, 2, 1, 1, 3]\n",
        "})\n",
        "\n",
        "print(\"Step 1: State the hypotheses and identify the claim.\")\n",
        "print(\"Hypothesis Statement:\")\n",
        "print(\"The participation in a wellness program has a significant effect on reducing the mental health consequences reported by employees in a tech company.\")\n",
        "print(\"\\nNull Hypothesis (H0):\")\n",
        "print(\"There is no significant difference in the mental health consequences reported by employees in a tech company before and after participating in a wellness program.\")\n",
        "print(\"\\nAlternative Hypothesis (H1):\")\n",
        "print(\"Participating in a wellness program is associated with a reduction in the mental health consequences reported by employees in a tech company.\")\n",
        "\n",
        "print(\"\\nStep 3: Compute the test value.\")\n",
        "data[\"difference\"] = data[\"mental_health_consequence_before\"] - data[\"mental_vs_physical_after\"]\n",
        "data[\"absolute_difference\"] = abs(data[\"difference\"])\n",
        "data[\"rank\"] = data[\"absolute_difference\"].rank(ascending=True)\n",
        "data[\"signed_rank\"] = data[\"rank\"] * data[\"difference\"]\n",
        "positive_ranks_sum = data[\"signed_rank\"][data[\"difference\"] > 0].sum()\n",
        "negative_ranks_sum = data[\"signed_rank\"][data[\"difference\"] < 0].sum()\n",
        "n = len(data)\n",
        "\n",
        "W_s = min(abs(positive_ranks_sum), abs(negative_ranks_sum))\n",
        "print(\"a. Make a table, as shown.\")\n",
        "print(data.to_string(index=False))\n",
        "print(\"\\nb. Find the differences (before-after), and place the values in the Difference column.\")\n",
        "print(\"\\nc. Find the absolute value of each difference, and place the results in the Absolute value column.\")\n",
        "print(\"\\nd. Rank each absolute value from lowest to highest, and place the rankings in the Rank column.\")\n",
        "print(\"\\ne. Give each rank a positive or negative sign, according to the sign in the Difference column.\")\n",
        "print(\"\\nf. Find the sum of the positive ranks and the sum of the negative ranks separately.\")\n",
        "print(\"g. Select the smaller of the absolute values of the sums, and use this absolute value as the test value Ws.\")\n",
        "print(f\"Test Value (Ws): {W_s}\")\n",
        "\n",
        "print(\"\\nStep 4: Make the decision.\")\n",
        "critical_value = 52\n",
        "print(f\"Critical Value: {critical_value}\")\n",
        "if W_s <= critical_value:\n",
        "    print(\"Reject the null hypothesis. There is a significant difference.\")\n",
        "else:\n",
        "    print(\"Fail to reject the null hypothesis. There is no significant difference.\")\n",
        "\n",
        "print(\"\\nStep 5: Summarize the results\")\n",
        "if W_s <= critical_value:\n",
        "    print(\"Based on the Wilcoxon Signed-rank Test, there is sufficient evidence to conclude that participating in the wellness program is associated with a reduction in the mental health consequences reported by employees in the tech company.\")\n",
        "else:\n",
        "    print(\"Based on the Wilcoxon Signed-rank Test, there is insufficient evidence to conclude that participating in the wellness program is associated with a reduction in the mental health consequences reported by employees in the tech company.\")\n"
      ]
    },
    {
      "cell_type": "markdown",
      "metadata": {
        "id": "UxUS0dcAIT9X"
      },
      "source": [
        "<center> <h2>*** THANK YOU SIR ***</h2></center>"
      ]
    },
    {
      "cell_type": "markdown",
      "metadata": {
        "id": "0wGCbNwgLPOb"
      },
      "source": [
        "___"
      ]
    }
  ],
  "metadata": {
    "colab": {
      "provenance": []
    },
    "kernelspec": {
      "display_name": "Python 3",
      "name": "python3"
    },
    "language_info": {
      "name": "python"
    }
  },
  "nbformat": 4,
  "nbformat_minor": 0
}
