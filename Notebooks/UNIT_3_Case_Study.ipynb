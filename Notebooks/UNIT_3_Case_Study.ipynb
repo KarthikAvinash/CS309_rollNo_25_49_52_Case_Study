{
  "cells": [
    {
      "cell_type": "markdown",
      "metadata": {
        "id": "feKpsh1RG3f3"
      },
      "source": [
        "# STATISTICS FOR CS\n",
        "* Section - A\n",
        "* 5th Semester\n",
        "* CASE STUDY - \"MENTAL HEALTH IN TECH\""
      ]
    },
    {
      "cell_type": "markdown",
      "metadata": {
        "id": "vrBW6oL5G9DE"
      },
      "source": [
        "## GROUP MEMBERS\n",
        "- **CHATURTH R** [21BCS025]\n",
        "- **KAKARAPU MOURYA** [21BCS049]\n",
        "- **KARTHIK AVINASH** [21BCS052]"
      ]
    },
    {
      "cell_type": "markdown",
      "metadata": {
        "id": "73tMQY9oHFYq"
      },
      "source": [
        "_____________\n",
        "# 1.Runs Test\n",
        "______________"
      ]
    },
    {
      "cell_type": "markdown",
      "metadata": {
        "id": "vX2NZUce87mU"
      },
      "source": [
        "_____________________________________________\n",
        "- **Null Hypothesis (H0):**  There is no association between getting treatment and having a family history of mental health issues.\n",
        "\n",
        "- **Alternative Hypothesis (H1):**  There is an association between getting treatment and having a family history of mental health issues.\n",
        "_________________________________________________"
      ]
    },
    {
      "cell_type": "code",
      "execution_count": 1,
      "metadata": {
        "colab": {
          "base_uri": "https://localhost:8080/"
        },
        "id": "IiqguBXxG7Td",
        "outputId": "fa38ad7d-abc5-4acf-a66a-9ec4346fa060"
      },
      "outputs": [
        {
          "name": "stdout",
          "output_type": "stream",
          "text": [
            "Defaulting to user installation because normal site-packages is not writeable\n",
            "Requirement already satisfied: statsmodels in c:\\users\\karthik avinash\\appdata\\roaming\\python\\python311\\site-packages (0.14.0)\n",
            "Requirement already satisfied: numpy>=1.18 in c:\\users\\karthik avinash\\appdata\\roaming\\python\\python311\\site-packages (from statsmodels) (1.23.5)\n",
            "Requirement already satisfied: scipy!=1.9.2,>=1.4 in c:\\users\\karthik avinash\\appdata\\roaming\\python\\python311\\site-packages (from statsmodels) (1.10.1)\n",
            "Requirement already satisfied: pandas>=1.0 in c:\\users\\karthik avinash\\appdata\\roaming\\python\\python311\\site-packages (from statsmodels) (1.5.3)\n",
            "Requirement already satisfied: patsy>=0.5.2 in c:\\users\\karthik avinash\\appdata\\roaming\\python\\python311\\site-packages (from statsmodels) (0.5.3)\n",
            "Requirement already satisfied: packaging>=21.3 in c:\\users\\karthik avinash\\appdata\\roaming\\python\\python311\\site-packages (from statsmodels) (23.0)\n",
            "Requirement already satisfied: python-dateutil>=2.8.1 in c:\\users\\karthik avinash\\appdata\\roaming\\python\\python311\\site-packages (from pandas>=1.0->statsmodels) (2.8.2)\n",
            "Requirement already satisfied: pytz>=2020.1 in c:\\users\\karthik avinash\\appdata\\roaming\\python\\python311\\site-packages (from pandas>=1.0->statsmodels) (2022.7.1)\n",
            "Requirement already satisfied: six in c:\\users\\karthik avinash\\appdata\\roaming\\python\\python311\\site-packages (from patsy>=0.5.2->statsmodels) (1.16.0)\n",
            "Note: you may need to restart the kernel to use updated packages.\n"
          ]
        }
      ],
      "source": [
        "%pip install statsmodels"
      ]
    },
    {
      "cell_type": "code",
      "execution_count": 2,
      "metadata": {},
      "outputs": [],
      "source": [
        "import pandas as pd\n",
        "df = pd.read_csv(\"data.csv\")"
      ]
    },
    {
      "cell_type": "code",
      "execution_count": 3,
      "metadata": {},
      "outputs": [
        {
          "data": {
            "text/html": [
              "<div>\n",
              "<style scoped>\n",
              "    .dataframe tbody tr th:only-of-type {\n",
              "        vertical-align: middle;\n",
              "    }\n",
              "\n",
              "    .dataframe tbody tr th {\n",
              "        vertical-align: top;\n",
              "    }\n",
              "\n",
              "    .dataframe thead th {\n",
              "        text-align: right;\n",
              "    }\n",
              "</style>\n",
              "<table border=\"1\" class=\"dataframe\">\n",
              "  <thead>\n",
              "    <tr style=\"text-align: right;\">\n",
              "      <th></th>\n",
              "      <th>Timestamp</th>\n",
              "      <th>Age</th>\n",
              "      <th>Gender</th>\n",
              "      <th>Country</th>\n",
              "      <th>family_history</th>\n",
              "      <th>treatment</th>\n",
              "      <th>no_employees</th>\n",
              "      <th>remote_work</th>\n",
              "      <th>tech_company</th>\n",
              "      <th>care_options</th>\n",
              "      <th>leave</th>\n",
              "      <th>mental_health_consequence</th>\n",
              "      <th>phys_health_consequence</th>\n",
              "      <th>mental_vs_physical</th>\n",
              "      <th>obs_consequence</th>\n",
              "    </tr>\n",
              "  </thead>\n",
              "  <tbody>\n",
              "    <tr>\n",
              "      <th>0</th>\n",
              "      <td>2014-08-27 11:29:00</td>\n",
              "      <td>37</td>\n",
              "      <td>Female</td>\n",
              "      <td>United States</td>\n",
              "      <td>No</td>\n",
              "      <td>Yes</td>\n",
              "      <td>Jun-25</td>\n",
              "      <td>No</td>\n",
              "      <td>Yes</td>\n",
              "      <td>Not sure</td>\n",
              "      <td>Somewhat easy</td>\n",
              "      <td>No</td>\n",
              "      <td>No</td>\n",
              "      <td>Yes</td>\n",
              "      <td>No</td>\n",
              "    </tr>\n",
              "    <tr>\n",
              "      <th>1</th>\n",
              "      <td>2014-08-27 11:29:00</td>\n",
              "      <td>44</td>\n",
              "      <td>Male</td>\n",
              "      <td>United States</td>\n",
              "      <td>No</td>\n",
              "      <td>No</td>\n",
              "      <td>More than 1000</td>\n",
              "      <td>No</td>\n",
              "      <td>No</td>\n",
              "      <td>No</td>\n",
              "      <td>Don't know</td>\n",
              "      <td>Maybe</td>\n",
              "      <td>No</td>\n",
              "      <td>Don't know</td>\n",
              "      <td>No</td>\n",
              "    </tr>\n",
              "    <tr>\n",
              "      <th>2</th>\n",
              "      <td>2014-08-27 11:29:00</td>\n",
              "      <td>32</td>\n",
              "      <td>Male</td>\n",
              "      <td>Canada</td>\n",
              "      <td>No</td>\n",
              "      <td>No</td>\n",
              "      <td>Jun-25</td>\n",
              "      <td>No</td>\n",
              "      <td>Yes</td>\n",
              "      <td>No</td>\n",
              "      <td>Somewhat difficult</td>\n",
              "      <td>No</td>\n",
              "      <td>No</td>\n",
              "      <td>No</td>\n",
              "      <td>No</td>\n",
              "    </tr>\n",
              "    <tr>\n",
              "      <th>3</th>\n",
              "      <td>2014-08-27 11:29:00</td>\n",
              "      <td>31</td>\n",
              "      <td>Male</td>\n",
              "      <td>United Kingdom</td>\n",
              "      <td>Yes</td>\n",
              "      <td>Yes</td>\n",
              "      <td>26-100</td>\n",
              "      <td>No</td>\n",
              "      <td>Yes</td>\n",
              "      <td>Yes</td>\n",
              "      <td>Somewhat difficult</td>\n",
              "      <td>Yes</td>\n",
              "      <td>Yes</td>\n",
              "      <td>No</td>\n",
              "      <td>Yes</td>\n",
              "    </tr>\n",
              "    <tr>\n",
              "      <th>4</th>\n",
              "      <td>2014-08-27 11:30:00</td>\n",
              "      <td>31</td>\n",
              "      <td>Male</td>\n",
              "      <td>United States</td>\n",
              "      <td>No</td>\n",
              "      <td>No</td>\n",
              "      <td>100-500</td>\n",
              "      <td>Yes</td>\n",
              "      <td>Yes</td>\n",
              "      <td>No</td>\n",
              "      <td>Don't know</td>\n",
              "      <td>No</td>\n",
              "      <td>No</td>\n",
              "      <td>Don't know</td>\n",
              "      <td>No</td>\n",
              "    </tr>\n",
              "  </tbody>\n",
              "</table>\n",
              "</div>"
            ],
            "text/plain": [
              "             Timestamp  Age  Gender         Country family_history treatment  \\\n",
              "0  2014-08-27 11:29:00   37  Female   United States             No       Yes   \n",
              "1  2014-08-27 11:29:00   44    Male   United States             No        No   \n",
              "2  2014-08-27 11:29:00   32    Male          Canada             No        No   \n",
              "3  2014-08-27 11:29:00   31    Male  United Kingdom            Yes       Yes   \n",
              "4  2014-08-27 11:30:00   31    Male   United States             No        No   \n",
              "\n",
              "     no_employees remote_work tech_company care_options               leave  \\\n",
              "0          Jun-25          No          Yes     Not sure       Somewhat easy   \n",
              "1  More than 1000          No           No           No          Don't know   \n",
              "2          Jun-25          No          Yes           No  Somewhat difficult   \n",
              "3          26-100          No          Yes          Yes  Somewhat difficult   \n",
              "4         100-500         Yes          Yes           No          Don't know   \n",
              "\n",
              "  mental_health_consequence phys_health_consequence mental_vs_physical  \\\n",
              "0                        No                      No                Yes   \n",
              "1                     Maybe                      No         Don't know   \n",
              "2                        No                      No                 No   \n",
              "3                       Yes                     Yes                 No   \n",
              "4                        No                      No         Don't know   \n",
              "\n",
              "  obs_consequence  \n",
              "0              No  \n",
              "1              No  \n",
              "2              No  \n",
              "3             Yes  \n",
              "4              No  "
            ]
          },
          "execution_count": 3,
          "metadata": {},
          "output_type": "execute_result"
        }
      ],
      "source": [
        "df.head(5)"
      ]
    },
    {
      "cell_type": "code",
      "execution_count": 4,
      "metadata": {},
      "outputs": [
        {
          "data": {
            "text/plain": [
              "Index(['Timestamp', 'Age', 'Gender', 'Country', 'family_history', 'treatment',\n",
              "       'no_employees', 'remote_work', 'tech_company', 'care_options', 'leave',\n",
              "       'mental_health_consequence', 'phys_health_consequence',\n",
              "       'mental_vs_physical', 'obs_consequence'],\n",
              "      dtype='object')"
            ]
          },
          "execution_count": 4,
          "metadata": {},
          "output_type": "execute_result"
        }
      ],
      "source": [
        "df.columns"
      ]
    },
    {
      "cell_type": "code",
      "execution_count": 5,
      "metadata": {
        "colab": {
          "base_uri": "https://localhost:8080/"
        },
        "id": "gWnoXWH0GctP",
        "outputId": "1e938cfc-dfd7-4acc-8fe2-90d884e442d7"
      },
      "outputs": [
        {
          "name": "stdout",
          "output_type": "stream",
          "text": [
            "Step 1: Hypothesis Statement and Claim:\n",
            "Hypothesis_statement: People have filled the form for mental health in tech in random, according to gender (Claim).\n",
            "Alternative Statement: People have not filled the form for mental health in tech in random, according to gender. \n",
            "\n",
            "Runs of gender:\n",
            "1 Female's\n",
            "5 Male's\n",
            "1 Female's\n",
            "1 Male's\n",
            "1 Female's\n",
            "3 Male's\n",
            "1 Female's\n",
            "2 Male's\n",
            "\n",
            "Number of males(n1): 11\n",
            "Number of females(n2): 4\n",
            "\n",
            "Number of runs: 8\n",
            "Critical values are 3 and 10\n",
            "\n",
            "Since number of runs is between 3 and 10\n",
            "We do not reject the null hypothesis.\n",
            "\n",
            "Step 5: Summary\n",
            "There is not enough evidence to reject the null hypothesis.\n",
            "=> People have filled the form for mental health in random, according to gender.\n"
          ]
        }
      ],
      "source": [
        "# Select the first 15 records\n",
        "df_subset = df.head(15)\n",
        "\n",
        "# Extract relevant columns\n",
        "timeStamp_Gender = df_subset[['Timestamp', 'Gender']].values.tolist()\n",
        "\n",
        "# Hypothesis and alternative statements\n",
        "Hypothesis_statement = \"People have filled the form for mental health in tech in random, according to gender (Claim).\"\n",
        "Alternative_statement = \"People have not filled the form for mental health in tech in random, according to gender.\"\n",
        "\n",
        "print(\"Step 1: Hypothesis Statement and Claim:\")\n",
        "print(\"Hypothesis_statement:\", Hypothesis_statement)\n",
        "print(\"Alternative Statement:\", Alternative_statement, \"\\n\")\n",
        "\n",
        "# ## Step 2: Finding Number of Run\n",
        "runs = []\n",
        "current_run = [timeStamp_Gender[0][1]]\n",
        "for i in range(1, len(timeStamp_Gender)):\n",
        "    if timeStamp_Gender[i][1] == current_run[-1]:\n",
        "        current_run.append(timeStamp_Gender[i][1])\n",
        "    else:\n",
        "        runs.append(current_run)\n",
        "        current_run = [timeStamp_Gender[i][1]]\n",
        "\n",
        "runs.append(current_run)\n",
        "\n",
        "print(\"Runs of gender:\")\n",
        "for run in runs:\n",
        "    print(f\"{len(run)} {run[0]}'s\")\n",
        "r = len(runs)\n",
        "\n",
        "# Step 3: Finding the number of males and females\n",
        "male_count = df_subset[df_subset['Gender'] == 'Male'].shape[0]\n",
        "female_count = df_subset[df_subset['Gender'] == 'Female'].shape[0]\n",
        "\n",
        "print(\"\\nNumber of males(n1):\", male_count)\n",
        "print(\"Number of females(n2):\", female_count)\n",
        "print(\"\\nNumber of runs:\", r)\n",
        "\n",
        "# Assigning critical value\n",
        "critical_low = 3\n",
        "critical_high = 10\n",
        "\n",
        "print(f'Critical values are {critical_low} and {critical_high}\\n')\n",
        "\n",
        "print(f'Since number of runs is between {critical_low} and {critical_high}')\n",
        "# Step 4: Decision\n",
        "reject = True\n",
        "if critical_low <= r <= critical_high:\n",
        "    print(\"We do not reject the null hypothesis.\")\n",
        "    reject = False\n",
        "else:\n",
        "    print(\"We do reject the null hypothesis.\")\n",
        "    reject = True\n",
        "\n",
        "# Step 5: Summary\n",
        "print(\"\\nStep 5: Summary\")\n",
        "if reject:\n",
        "    print(\"There is enough evidence to reject the null hypothesis that people have filled the form for mental health in random, according to gender.\")\n",
        "else:\n",
        "    print(\"There is not enough evidence to reject the null hypothesis.\")\n",
        "    print(\"=> People have filled the form for mental health in random, according to gender.\")"
      ]
    },
    {
      "cell_type": "markdown",
      "metadata": {
        "id": "XyJ_XyxzHca2"
      },
      "source": [
        "_____________\n",
        "# 2. Sign Test - One Sample\n",
        "_____________"
      ]
    },
    {
      "cell_type": "markdown",
      "metadata": {
        "id": "qxynXdWPb5ck"
      },
      "source": [
        "____________________________________________________\n",
        "\n",
        "*   **Null Hypothesis:** The population median age is equal to the hypothesized\n",
        "value.\n",
        "*   **Alternative Hypothesis:** There is a significant difference between the population median age and the hypothesized value.\n",
        "____________________________________________________"
      ]
    },
    {
      "cell_type": "code",
      "execution_count": 11,
      "metadata": {
        "colab": {
          "base_uri": "https://localhost:8080/"
        },
        "id": "RfukMomHHjgu",
        "outputId": "049270b5-a593-4922-ed4b-f27fd19edadc"
      },
      "outputs": [
        {
          "name": "stdout",
          "output_type": "stream",
          "text": [
            "Critical value is  3\n",
            "Hypotheses:\n",
            "  Null Hypothesis (H0): The population median age is equal to 30.\n",
            "  Alternative Hypothesis (H1): There is a significant difference between the population median age and 30.\n",
            "Sign Counts:\n",
            "  +'s: 12\n",
            "  -'s: 3\n",
            "  0's: 0\n",
            "\n",
            "Minimum of +'s and -'s is 3\n",
            "Test Value: 3\n",
            "Result: Reject the null hypothesis\n"
          ]
        }
      ],
      "source": [
        "from scipy.stats import binom_test\n",
        "\n",
        "hypothesized_median = 30\n",
        "\n",
        "# Select the first 15 rows of the 'Age' column\n",
        "subset = df['Age'].head(15)\n",
        "\n",
        "# Create a 'Signs' column based on the comparison with the hypothesized median\n",
        "subset['Signs'] = subset.apply(lambda x: '+' if x > hypothesized_median else '-' if x < hypothesized_median else '0')\n",
        "\n",
        "if subset['Signs'].eq('0').all():\n",
        "    print(\"Data supports the null hypothesis. Stop.\")\n",
        "else:\n",
        "    # Count the number of occurrences of each sign\n",
        "    sign_counts = subset['Signs'].value_counts()\n",
        "\n",
        "    positive_count = sign_counts.get('+', 0)\n",
        "    negative_count = sign_counts.get('-', 0)\n",
        "    zero_count = sign_counts.get('0', 0)\n",
        "\n",
        "\n",
        "    test_value = min(positive_count, negative_count)\n",
        "    # n = len(subset['Age'])\n",
        "\n",
        "    alpha = 0.05\n",
        "    critical_value = 3\n",
        "    print(\"Critical value is \", critical_value)\n",
        "\n",
        "    if test_value <= critical_value:\n",
        "        result = 'Reject the null hypothesis'\n",
        "    else:\n",
        "        result = 'Fail to reject the null hypothesis'\n",
        "\n",
        "    print(f'Hypotheses:')\n",
        "    print(f'  Null Hypothesis (H0): The population median age is equal to {hypothesized_median}.')\n",
        "    print(f'  Alternative Hypothesis (H1): There is a significant difference between the population median age and {hypothesized_median}.')\n",
        "    print(f'Sign Counts:')\n",
        "    print(f'  +\\'s: {positive_count}')\n",
        "    print(f'  -\\'s: {negative_count}')\n",
        "    print(f'  0\\'s: {zero_count}')\n",
        "    print(\"\\nMinimum of +'s and -'s is 3\")\n",
        "    print(f'Test Value: {test_value}')\n",
        "    # print(n)\n",
        "    print(f'Result: {result}')"
      ]
    },
    {
      "cell_type": "markdown",
      "metadata": {
        "id": "nHhIVY7jHko8"
      },
      "source": [
        "___________________\n",
        "# 3. Paired Sample - Sign Test\n",
        "__________"
      ]
    },
    {
      "cell_type": "markdown",
      "metadata": {
        "id": "Qzqcp8s4JLIN"
      },
      "source": [
        "_______________________\n",
        "- **Null Hypothesis (H0):** There is no relationship between having a family history of mental illness and the likelihood of seeking treatment for a mental health condition.\n",
        "\n",
        "- **Alternative Hypothesis (H1):** There is a relationship between having a family history of mental illness and the likelihood of seeking treatment for a mental health condition.\n",
        "___________________________________"
      ]
    },
    {
      "cell_type": "code",
      "execution_count": 7,
      "metadata": {
        "colab": {
          "base_uri": "https://localhost:8080/"
        },
        "id": "56wRio5JWYFJ",
        "outputId": "c4f0da31-775e-4a4a-e56f-b980748abd74"
      },
      "outputs": [
        {
          "name": "stdout",
          "output_type": "stream",
          "text": [
            "Null Hypothesis (H0): There is no relationship between having a family history of mental illness and the likelihood of seeking treatment for a mental health condition.\n",
            "Alternative Hypothesis (H1): There is a relationship between having a family history of mental illness and the likelihood of seeking treatment for a mental health condition.\n",
            "\n",
            "Step 3: Positive Differences = 123\n",
            "Step 3: Negative Differences = 264\n",
            "Step 4: Test Value = 123\n",
            "Step 5: Sample Size (n) = 1218\n",
            "Step 5: For Large Samples (n >= 26):\n",
            "  - Significance Level (alpha) = 0.05\n",
            "  - Z-Critical Value = 1.959963984540054\n",
            "Test statistic can be obtained from the formula, Z = [(X + 0.05) - (n/2)]/sqrt(n/2), where X is test value, in this case equal to 123 and n = 1218 \n",
            "  - Test Statistic = -19.691687730650333\n",
            "  - Is |Test Statistic| <= Z-Critical Value? False\n",
            "Result: Do not reject the null hypothesis\n"
          ]
        }
      ],
      "source": [
        "import pandas as pd\n",
        "import numpy as np\n",
        "from scipy import stats\n",
        "\n",
        "# Load your dataset from the CSV file\n",
        "df = pd.read_csv('data.csv')\n",
        "\n",
        "# Extract relevant columns\n",
        "family_history = df['family_history'].map({'Yes': 1, 'No': 0})\n",
        "treatment = df['treatment'].map({'Yes': 1, 'No': 0})\n",
        "differences = family_history - treatment\n",
        "\n",
        "positive_diff = np.sum(differences > 0)\n",
        "negative_diff = np.sum(differences < 0)\n",
        "\n",
        "test_value = min(positive_diff, negative_diff)\n",
        "\n",
        "n = len(differences)\n",
        "\n",
        "# Define your null and alternative hypotheses\n",
        "null_hypothesis = \"There is no relationship between having a family history of mental illness and the likelihood of seeking treatment for a mental health condition.\"\n",
        "alternative_hypothesis = \"There is a relationship between having a family history of mental illness and the likelihood of seeking treatment for a mental health condition.\"\n",
        "\n",
        "if n < 26:\n",
        "    critical_value = 10\n",
        "    if abs(test_value) <= critical_value:\n",
        "        result = \"Do not reject the null hypothesis\"\n",
        "    else:\n",
        "        result = \"Reject the null hypothesis\"\n",
        "else:\n",
        "    alpha = 0.05\n",
        "    z_critical = stats.norm.ppf(1 - alpha / 2)\n",
        "    test_statistic = ((test_value + 0.05) - (n/2)) / np.sqrt(n/2)\n",
        "\n",
        "    if abs(test_statistic) <= z_critical:\n",
        "        result = \"Reject the null hypothesis\"\n",
        "    else:\n",
        "        result = \"Do not reject the null hypothesis\"\n",
        "\n",
        "print(\"Null Hypothesis (H0):\", null_hypothesis)\n",
        "print(\"Alternative Hypothesis (H1):\", alternative_hypothesis)\n",
        "print()\n",
        "# print(\"Step 2: Differences =\", differences.tolist())\n",
        "print(\"Step 3: Positive Differences =\", positive_diff)\n",
        "print(\"Step 3: Negative Differences =\", negative_diff)\n",
        "print(\"Step 4: Test Value =\", test_value)\n",
        "print(\"Step 5: Sample Size (n) =\", n)\n",
        "\n",
        "if n < 26:\n",
        "    print(\"Step 5: For Small Samples (n < 26):\")\n",
        "    print(f\"  - Critical Value = {critical_value}\")\n",
        "    print(f\"  - |Test Value| <= Critical Value ? {abs(test_value) <= critical_value}\")\n",
        "else:\n",
        "    print(\"Step 5: For Large Samples (n >= 26):\")\n",
        "    print(f\"  - Significance Level (alpha) = {alpha}\")\n",
        "    print(f\"  - Z-Critical Value = {z_critical}\")\n",
        "    print(f'Test statistic can be obtained from the formula, Z = [(X + 0.05) - (n/2)]/sqrt(n/2), where X is test value, in this case equal to {test_value} and n = {n} ')\n",
        "    print(f\"  - Test Statistic = {test_statistic}\")\n",
        "    print(f\"  - Is |Test Statistic| <= Z-Critical Value? {abs(test_statistic) <= z_critical}\")\n",
        "\n",
        "print(\"Result:\", result)\n"
      ]
    },
    {
      "cell_type": "markdown",
      "metadata": {
        "id": "fs8WgyaeH_lh"
      },
      "source": [
        "________________\n",
        "# 4. Wilcoxon Rank Sum Test or Mann-Whitney U test\n",
        "_________________"
      ]
    },
    {
      "cell_type": "markdown",
      "metadata": {
        "id": "rz6boAA1Yq5t"
      },
      "source": [
        "_____________________________\n",
        "- **Null Hypothesis (H0):**  There is no difference in the ages of individuals who have received mental health treatment and those who have not received treatment.\n",
        "\n",
        "- **Alternative Hypothesis (H1):**  There is a difference in the ages of individuals who have received mental health treatment and those who have not received treatment (claim).\n",
        "__________________________________"
      ]
    },
    {
      "cell_type": "code",
      "execution_count": 8,
      "metadata": {
        "colab": {
          "base_uri": "https://localhost:8080/"
        },
        "id": "Lr2f7XoHIJR1",
        "outputId": "7d5e73c3-7fe2-4532-98f3-f20c44293bf0"
      },
      "outputs": [
        {
          "name": "stdout",
          "output_type": "stream",
          "text": [
            "Step 1: State the hypotheses and identify the claim.\n",
            "H0: There is no difference in the ages of individuals who have received mental health treatment and those who have not received treatment.\n",
            "H1: There is a difference in the ages of individuals who have received mental health treatment and those who have not received treatment (claim).\n",
            "\n",
            "Step 2: Find the critical value.\n",
            "Using alpha (α) significance level (e.g., α = 0.05) and a two-tailed test.\n",
            "Critical value is 1.9599639845400545\n",
            "\n",
            "Step 3: Compute the test value.\n",
            "a. Combine the data from the two groups and rank them.\n",
            "b. Find the smaller group\n",
            "\n",
            "n1 = 613\n",
            "n2 = 605\n",
            "\n",
            "So size of smaller group is 605\n",
            "Sum of ranks of smaller group R = 372588\n",
            "\n",
            "c. Calculate the Mann-Whitney U Statistic U (μ): 368747.5\n",
            "d. Calculate the standard error (σ): 6137.890754702846\n",
            "\n",
            "Step 4: Use these formulas to find the test value.\n",
            "Z_calculated = 0.6257035443417452\n",
            "Z_tabulated = 1.9599639845400545\n",
            "Fail to reject the null hypothesis: \n",
            "There is no difference in the ages of individuals who have received mental health treatment and those who have not received treatment.\n"
          ]
        }
      ],
      "source": [
        "import pandas as pd\n",
        "from scipy.stats import mannwhitneyu, norm\n",
        "\n",
        "df = pd.read_csv('data.csv')\n",
        "\n",
        "# Extract relevant columns\n",
        "group1 = df[df[\"treatment\"] == \"Yes\"][\"Age\"].values\n",
        "group2 = df[df[\"treatment\"] == \"No\"][\"Age\"].values\n",
        "\n",
        "\n",
        "# Set the significance level (alpha)\n",
        "alpha = 0.05\n",
        "\n",
        "\n",
        "# Find the tabulated value for a two-tailed test\n",
        "z_tab = abs(norm.ppf(alpha / 2))\n",
        "\n",
        "# Combine the data from both groups\n",
        "combined_data = np.concatenate((group1, group2))\n",
        "\n",
        "# Calculate the ranks for the combined data\n",
        "ranks = np.argsort(combined_data) + 1\n",
        "\n",
        "# Print lengths of each group\n",
        "n1 = len(group1)\n",
        "n2 = len(group2)\n",
        "\n",
        "\n",
        "# Determine which group has the smaller sample size\n",
        "smaller_group = min(len(group1), len(group2))\n",
        "\n",
        "# Calculate the sum of ranks for the smaller group\n",
        "R = np.sum(ranks[:len(group1)]) if len(group1) < len(group2) else np.sum(ranks[:len(group2)])\n",
        "\n",
        "# Calculate the Mann-Whitney U Statistic(μ)\n",
        "U = smaller_group * (len(group1) + len(group2) + 1) / 2\n",
        "\n",
        "\n",
        "# Calculate the standard error (σ) for the Mann-Whitney U statistic\n",
        "Sigma = np.sqrt(len(group1) * len(group2) * (len(group1) + len(group2) + 1) / 12)\n",
        "\n",
        "\n",
        "# Calculating z-calculated\n",
        "z_cal = np.abs(R - U) / Sigma\n",
        "\n",
        "\n",
        "print(\"Step 1: State the hypotheses and identify the claim.\")\n",
        "print(\"H0: There is no difference in the ages of individuals who have received mental health treatment and those who have not received treatment.\")\n",
        "print(\"H1: There is a difference in the ages of individuals who have received mental health treatment and those who have not received treatment (claim).\\n\")\n",
        "\n",
        "print(\"Step 2: Find the critical value.\")\n",
        "print(f\"Using alpha (α) significance level (e.g., α = {alpha}) and a two-tailed test.\")\n",
        "\n",
        "print(f'Critical value is {z_tab}\\n')\n",
        "\n",
        "print(\"Step 3: Compute the test value.\")\n",
        "print(\"a. Combine the data from the two groups and rank them.\")\n",
        "\n",
        "print(\"b. Find the smaller group\\n\")\n",
        "\n",
        "print(f'n1 = {n1}')\n",
        "print(f'n2 = {n2}')\n",
        "\n",
        "print(f'\\nSo size of smaller group is {smaller_group}')\n",
        "print(f\"Sum of ranks of smaller group R = {R}\\n\")\n",
        "print(f\"c. Calculate the Mann-Whitney U Statistic U (μ): {U}\")\n",
        "print(\"d. Calculate the standard error (σ):\", Sigma)\n",
        "print(\"\\nStep 4: Use these formulas to find the test value.\")\n",
        "print(f\"Z_calculated = {z_cal}\")\n",
        "print(f\"Z_tabulated = {z_tab}\")\n",
        "\n",
        "# Determine whether to reject the null hypothesis\n",
        "if z_cal < z_tab:\n",
        "    print('Fail to reject the null hypothesis: \\nThere is no difference in the ages of individuals who have received mental health treatment and those who have not received treatment.')\n",
        "else:\n",
        "    print('Reject the null hypothesis: \\nThere is a difference in the ages of individuals who have received mental health treatment and those who have not received treatment.')"
      ]
    },
    {
      "cell_type": "code",
      "execution_count": 9,
      "metadata": {},
      "outputs": [
        {
          "data": {
            "text/plain": [
              "Index(['Timestamp', 'Age', 'Gender', 'Country', 'family_history', 'treatment',\n",
              "       'no_employees', 'remote_work', 'tech_company', 'care_options', 'leave',\n",
              "       'mental_health_consequence', 'phys_health_consequence',\n",
              "       'mental_vs_physical', 'obs_consequence'],\n",
              "      dtype='object')"
            ]
          },
          "execution_count": 9,
          "metadata": {},
          "output_type": "execute_result"
        }
      ],
      "source": [
        "df.columns"
      ]
    },
    {
      "cell_type": "markdown",
      "metadata": {
        "id": "-DfpcEggIKTP"
      },
      "source": [
        "________________________\n",
        "# 5. Wilcoxon Signed Rank Test\n",
        "\n",
        "_______________"
      ]
    },
    {
      "cell_type": "markdown",
      "metadata": {
        "id": "5u-UTGqvY6vO"
      },
      "source": [
        "___________________________\n",
        "- Hypothesis Statement:\n",
        "The participation in a wellness program has a significant effect on reducing the mental health consequences reported by employees in a tech company.\n",
        "\n",
        "- **Null Hypothesis (H0):**\n",
        "There is no significant difference in the mental health consequences reported by employees in a tech company before and after participating in a wellness program.\n",
        "\n",
        "- **Alternative Hypothesis (H1):**\n",
        "Participating in a wellness program is associated with a reduction in the mental health consequences reported by employees in a tech company.\n",
        "_________________________________________"
      ]
    },
    {
      "cell_type": "code",
      "execution_count": 10,
      "metadata": {
        "colab": {
          "base_uri": "https://localhost:8080/"
        },
        "id": "OvcRn_79ITBB",
        "outputId": "107590e0-1844-4c4a-9439-9d4c741e8d0e"
      },
      "outputs": [
        {
          "name": "stdout",
          "output_type": "stream",
          "text": [
            "Step 1: State the hypotheses and identify the claim.\n",
            "Hypothesis Statement:\n",
            "\n",
            "Null Hypothesis (H0):\n",
            "There is no relationship between having a family history of mental illness and the likelihood of seeking treatment for a mental health condition.\n",
            "\n",
            "Alternative Hypothesis (H1):\n",
            "There is a relationship between having a family history of mental illness and the likelihood of seeking treatment for a mental health condition.\n",
            "Step 2: Find the critical value\n",
            "Z-Tabulated = 1.9599639845400545\n",
            "\n",
            "Step 3: Compute the test value.\n",
            "Creating a table of before, after, difference, absolute difference, rank, signed rank\n",
            "\n",
            "Step 4: Finding Z_calculated\n",
            "Z_cal = 30.220345527006767\n",
            "\n",
            "Step 5: Make the decision.\n",
            "Reject the null hypothesis: \n",
            "There is a relationship between having a family history of mental illness and the likelihood of seeking treatment for a mental health condition.\n"
          ]
        }
      ],
      "source": [
        "import pandas as pd\n",
        "from scipy.stats import wilcoxon\n",
        "\n",
        "df = pd.read_csv('data.csv')\n",
        "\n",
        "# Extract relevant columns\n",
        "before = df['family_history'].map({'Yes': 1, 'No': 0})\n",
        "after = df['treatment'].map({'Yes': 1, 'No': 0})\n",
        "\n",
        "# Set the significance level\n",
        "alpha = 0.05\n",
        "\n",
        "# Find the tabulated value for a two-tailed test\n",
        "z_tab = abs(norm.ppf(alpha / 2))\n",
        "\n",
        "# Step 1: Calculate the differences\n",
        "difference = before - after\n",
        "\n",
        "# Step 2: Find the absolute values\n",
        "absolute_difference = abs(difference)\n",
        "\n",
        "# Step 3: Rank the absolute differences\n",
        "ranked_values = absolute_difference.rank()\n",
        "\n",
        "# Step 4: Assign signed ranks\n",
        "signed_ranks = difference / absolute_difference\n",
        "\n",
        "# Step 5: Create a DataFrame to display the table\n",
        "table = pd.DataFrame({\n",
        "    'Family History (Before)': before,\n",
        "    'Treatment (After)': after,\n",
        "    'Difference': difference,\n",
        "    'Absolute Value': absolute_difference,\n",
        "    'Rank': ranked_values,\n",
        "    'Signed Rank': signed_ranks\n",
        "})\n",
        "\n",
        "# print(\"Table:\")\n",
        "# print(table)\n",
        "\n",
        "# Step 6: Calculate the sum of positive and negative ranks\n",
        "sum_positive_ranks = signed_ranks[signed_ranks > 0].sum()\n",
        "sum_negative_ranks = signed_ranks[signed_ranks < 0].sum()\n",
        "\n",
        "# Step 7: Calculate the test value (Ws)\n",
        "n = len(before)\n",
        "test_value = min(abs(sum_positive_ranks), abs(sum_negative_ranks))\n",
        "\n",
        "# Step 8: Calculate z_calculated\n",
        "z_cal = abs((test_value - (n * (n + 1) / 4)) / ((n * (n + 1) * (2 * n + 1)) / 24)**0.5)\n",
        "\n",
        "print(\"Step 1: State the hypotheses and identify the claim.\")\n",
        "print(\"Hypothesis Statement:\")\n",
        "print(\"\\nNull Hypothesis (H0):\")\n",
        "print(\"There is no relationship between having a family history of mental illness and the likelihood of seeking treatment for a mental health condition.\")\n",
        "print(\"\\nAlternative Hypothesis (H1):\")\n",
        "print(\"There is a relationship between having a family history of mental illness and the likelihood of seeking treatment for a mental health condition.\")\n",
        "\n",
        "print('Step 2: Find the critical value')\n",
        "print(f\"Z-Tabulated = {z_tab}\")\n",
        "\n",
        "print(\"\\nStep 3: Compute the test value.\")\n",
        "print(\"Creating a table of before, after, difference, absolute difference, rank, signed rank\")\n",
        "# print(f\"Test value Ws = {test_value}\")\n",
        "\n",
        "print(\"\\nStep 4: Finding Z_calculated\")\n",
        "print(f\"Z_cal = {z_cal}\")\n",
        "\n",
        "print(\"\\nStep 5: Make the decision.\")\n",
        "\n",
        "if z_cal < z_tab:\n",
        "    print('Fail to reject the null hypothesis: \\nThere is no relationship between having a family history of mental illness and the likelihood of seeking treatment for a mental health condition.')\n",
        "else:\n",
        "    print('Reject the null hypothesis: \\nThere is a relationship between having a family history of mental illness and the likelihood of seeking treatment for a mental health condition.')\n"
      ]
    },
    {
      "cell_type": "markdown",
      "metadata": {
        "id": "UxUS0dcAIT9X"
      },
      "source": [
        "<center> <h2>*** THANK YOU SIR ***</h2></center>"
      ]
    },
    {
      "cell_type": "markdown",
      "metadata": {
        "id": "0wGCbNwgLPOb"
      },
      "source": [
        "___"
      ]
    }
  ],
  "metadata": {
    "colab": {
      "provenance": []
    },
    "kernelspec": {
      "display_name": "Python 3 (ipykernel)",
      "language": "python",
      "name": "python3"
    },
    "language_info": {
      "codemirror_mode": {
        "name": "ipython",
        "version": 3
      },
      "file_extension": ".py",
      "mimetype": "text/x-python",
      "name": "python",
      "nbconvert_exporter": "python",
      "pygments_lexer": "ipython3",
      "version": "3.11.2"
    }
  },
  "nbformat": 4,
  "nbformat_minor": 0
}
