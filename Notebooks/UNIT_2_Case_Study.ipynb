{
  "cells": [
    {
      "cell_type": "markdown",
      "metadata": {
        "id": "T4BJliGXY_vf"
      },
      "source": [
        "_____________________\n",
        "# STATISTICS FOR CS\n",
        "## Section - A\n",
        "### 5th Semester\n",
        "#### CASE STUDY\n",
        "____________________"
      ]
    },
    {
      "cell_type": "markdown",
      "metadata": {
        "id": "oJkMQ7-0kBlB"
      },
      "source": [
        "_____________________________\n",
        "# MENTAL HEALTH IN TECH\n",
        "_______________________________\n",
        "## GROUP MEMBERS\n",
        "- **CHATURTH R** [21BCS025]\n",
        "- **KAKARAPU MOURYA** [21BCS049]\n",
        "- **KARTHIK AVINASH** [21BCS052]\n",
        "\n",
        "_______________\n"
      ]
    },
    {
      "cell_type": "code",
      "execution_count": 24,
      "metadata": {
        "id": "REh4ygjYX1C8"
      },
      "outputs": [],
      "source": [
        "import pandas as pd\n",
        "import matplotlib.pyplot as plt\n",
        "import numpy as np\n",
        "import seaborn as sns"
      ]
    },
    {
      "cell_type": "markdown",
      "metadata": {
        "id": "o87wOUXSX1DC"
      },
      "source": [
        "_______\n",
        "# Large One-Sample Z-Test for Population Mean"
      ]
    },
    {
      "cell_type": "markdown",
      "metadata": {
        "id": "GfvH6W6qX1DE"
      },
      "source": [
        "\n",
        "**Hypothesis Statements:**\n",
        "* **Null Hypothesis (H0)**: The null hypothesis is a statement that there is no significant difference in likelihood based on company size. Specifically, it states that the population mean of \"no_employees_numerical\" (company size) is equal to the hypothesized mean \"mu_hypothesis,\" which is 30.\n",
        "\n",
        "* **Alternative Hypothesis (Ha)**: The alternative hypothesis is the statement that contradicts the null hypothesis. In this case, it states that a significant difference exists in likelihood based on company size. It suggests that the population mean of \"no_employees_numerical\" is not equal to the hypothesized mean \"mu_hypothesis,\" which is 30."
      ]
    },
    {
      "cell_type": "code",
      "execution_count": null,
      "metadata": {},
      "outputs": [],
      "source": [
        "!pip install stats"
      ]
    },
    {
      "cell_type": "code",
      "execution_count": 3,
      "metadata": {
        "colab": {
          "base_uri": "https://localhost:8080/"
        },
        "id": "pBYtBhk6X1DF",
        "outputId": "08ddfc34-4a8b-47fc-82a6-e174cef9b743"
      },
      "outputs": [
        {
          "name": "stdout",
          "output_type": "stream",
          "text": [
            "Column of interest: Age\n",
            "Sample Mean: 32.04\n",
            "Claimed Mean: 35\n",
            "Z-statistic: -2.3108196296860792\n",
            "Critical Z-score (0.05 significance level): 1.959963984540054\n",
            "Null Hypothesis: The average age of employees in the tech industry is 35 years or more.\n",
            "Alternative Hypothesis: The average age of employees in the tech industry is less than 35 years.\n",
            "Reject the null hypothesis. There is enough evidence to support the company's claim.\n"
          ]
        }
      ],
      "source": [
        "import pandas as pd\n",
        "from scipy import stats\n",
        "\n",
        "df = pd.read_csv('data.csv')\n",
        "\n",
        "# Choose the column for the sample (let's use 'Age')\n",
        "column_of_interest = 'Age'\n",
        "\n",
        "# Specify the company's claim (null hypothesis)\n",
        "claim_mean = 35\n",
        "\n",
        "# Sample 50 employees randomly\n",
        "sample_size = 50\n",
        "sample_data = df[column_of_interest].sample(n=sample_size, random_state=42)  # You can change the random_state for different samples\n",
        "\n",
        "# Given information\n",
        "sample_mean = sample_data.mean()\n",
        "sample_std = sample_data.std()\n",
        "\n",
        "# Significance level\n",
        "alpha = 0.05\n",
        "\n",
        "# Perform one-sample Z-test\n",
        "z_stat = (sample_mean - claim_mean) / (sample_std / (sample_size ** 0.5))\n",
        "\n",
        "# Get the critical Z-score from the standard normal distribution for the given alpha\n",
        "z_tab = stats.norm.ppf(1 - alpha/2)\n",
        "\n",
        "# Formulate hypotheses\n",
        "null_hypothesis = f\"The average age of employees in the tech industry is {claim_mean} years or more.\"\n",
        "alternative_hypothesis = f\"The average age of employees in the tech industry is less than {claim_mean} years.\"\n",
        "\n",
        "# Print the results\n",
        "print(f\"Column of interest: {column_of_interest}\")\n",
        "print(f\"Sample Mean: {sample_mean}\")\n",
        "print(f\"Claimed Mean: {claim_mean}\")\n",
        "print(f\"Z-statistic: {z_stat}\")\n",
        "print(f\"Critical Z-score ({alpha} significance level): {z_tab}\")\n",
        "print(f\"Null Hypothesis: {null_hypothesis}\")\n",
        "print(f\"Alternative Hypothesis: {alternative_hypothesis}\")\n",
        "\n",
        "# Check the significance of the result\n",
        "if z_stat < -z_tab:\n",
        "    print(\"Reject the null hypothesis. There is enough evidence to support the company's claim.\")\n",
        "else:\n",
        "    print(\"Fail to reject the null hypothesis. There is not enough evidence to support the company's claim.\")"
      ]
    },
    {
      "cell_type": "markdown",
      "metadata": {
        "id": "ZM7iP72VlWr4"
      },
      "source": [
        "# Large Two - Sample Z-Test for Population Mean"
      ]
    },
    {
      "cell_type": "markdown",
      "metadata": {
        "id": "QsiaBsokX1DG"
      },
      "source": [
        "**Hypothesis Statements:**\n",
        "\n",
        "* **Null Hypothesis (H0)**: There is no significant difference in the mean age between individuals who received mental health treatment (\"Yes\" in the \"treatment\" column) and individuals who did not receive treatment (\"No\" in the \"treatment\" column) in the population.\n",
        "\n",
        "* **Alternative Hypothesis (Ha)**: There is a significant difference in the mean age between individuals who received mental health treatment and individuals who did not receive treatment in the population."
      ]
    },
    {
      "cell_type": "code",
      "execution_count": 26,
      "metadata": {
        "colab": {
          "base_uri": "https://localhost:8080/"
        },
        "id": "wZPFU6WxX1DH",
        "outputId": "aa2979f7-ad85-43ff-f1f7-7af33b7d7a30"
      },
      "outputs": [
        {
          "name": "stdout",
          "output_type": "stream",
          "text": [
            "Reject the null hypothesis (H0). There is a significant difference between the two samples.\n",
            "Z-score: 2.7568120779203698\n",
            "Critical Z-value: 1.959963984540054\n",
            "Confidence Interval: (0.3304884445954742, 1.9562574063206242)\n"
          ]
        }
      ],
      "source": [
        "import pandas as pd\n",
        "import numpy as np\n",
        "from scipy import stats\n",
        "\n",
        "df = pd.read_csv('population.csv')\n",
        "\n",
        "\n",
        "sample1 = df[df['treatment'] == 'Yes']['Age']  \n",
        "sample2 = df[df['treatment'] == 'No']['Age']   \n",
        "\n",
        "\n",
        "alpha = 0.05\n",
        "\n",
        "\n",
        "n1 = len(sample1)  \n",
        "n2 = len(sample2)  \n",
        "x1_bar = sample1.mean()  \n",
        "x2_bar = sample2.mean()  \n",
        "s1 = sample1.std()  \n",
        "s2 = sample2.std()  \n",
        "\n",
        "\n",
        "z_numerator = abs(x1_bar - x2_bar)\n",
        "z_denominator = np.sqrt((s1**2 / n1) + (s2**2 / n2))\n",
        "z_score = z_numerator / z_denominator\n",
        "\n",
        "\n",
        "z_critical = stats.norm.ppf(1 - alpha / 2)\n",
        "\n",
        "\n",
        "margin_of_error = z_critical * z_denominator\n",
        "\n",
        "\n",
        "confidence_interval = (x1_bar - x2_bar - margin_of_error, x1_bar - x2_bar + margin_of_error)\n",
        "\n",
        "\n",
        "if abs(z_score) > z_critical:\n",
        "    print(\"Reject the null hypothesis (H0). There is a significant difference between the two samples.\")\n",
        "else:\n",
        "    print(\"Fail to reject the null hypothesis (H0). There is no significant difference between the two samples.\")\n",
        "\n",
        "print(f\"Z-score: {z_score}\")\n",
        "print(f\"Critical Z-value: {z_critical}\")\n",
        "print(f\"Confidence Interval: ({confidence_interval[0]}, {confidence_interval[1]})\")\n"
      ]
    },
    {
      "cell_type": "markdown",
      "metadata": {},
      "source": [
        "___"
      ]
    },
    {
      "cell_type": "markdown",
      "metadata": {
        "id": "xVjaJDitljY_"
      },
      "source": [
        "# Small One-Sample t-Test for Population Mean"
      ]
    },
    {
      "cell_type": "markdown",
      "metadata": {
        "id": "lz5_cq4PX1DI"
      },
      "source": [
        "**Hypothesis Statements:**\n",
        "* **Null Hypothesis (H0):**  The sample mean age is equal to the hypothesized population mean age.\n",
        "\n",
        "* **Alternative Hypothesis (Ha):** The sample mean age is not equal to the hypothesized population mean age."
      ]
    },
    {
      "cell_type": "code",
      "execution_count": 27,
      "metadata": {
        "colab": {
          "base_uri": "https://localhost:8080/"
        },
        "id": "jSAh-N0wX1DI",
        "outputId": "f1f87655-664b-4e47-9ab2-69c26587e706"
      },
      "outputs": [
        {
          "name": "stdout",
          "output_type": "stream",
          "text": [
            "Fail to reject the null hypothesis (H0). There is no significant difference between the sample mean and the hypothesized population mean.\n",
            "t-statistic: 0.3727518932568717\n",
            "Critical t-value: 1.9619135660477274\n",
            "Confidence Interval for Population Mean: (21.0918253580179, 43.08715657958473)\n"
          ]
        }
      ],
      "source": [
        "import pandas as pd\n",
        "import numpy as np\n",
        "from scipy import stats\n",
        "\n",
        "df = pd.read_csv('population.csv')\n",
        "\n",
        "sample = df['Age'] \n",
        "\n",
        "alpha = 0.05\n",
        "\n",
        "mu_hypothesis = 30\n",
        "\n",
        "n = len(sample)\n",
        "\n",
        "sample_mean = sample.mean()  \n",
        "\n",
        "t_statistic = (sample_mean - mu_hypothesis) / (sample_std / np.sqrt(n))\n",
        "\n",
        "degrees_of_freedom = n\n",
        "\n",
        "t_critical = stats.t.ppf(1 - alpha / 2, df=degrees_of_freedom)\n",
        "\n",
        "margin_of_error = t_critical * (sample_std / np.sqrt(n))\n",
        "\n",
        "confidence_interval = (sample_mean - margin_of_error, sample_mean + margin_of_error)\n",
        "\n",
        "if abs(t_statistic) > t_critical:\n",
        "    print(\"Reject the null hypothesis (H0). The sample mean is significantly different from the hypothesized population mean.\")\n",
        "else:\n",
        "    print(\"Fail to reject the null hypothesis (H0). There is no significant difference between the sample mean and the hypothesized population mean.\")\n",
        "\n",
        "print(f\"t-statistic: {t_statistic}\")\n",
        "print(f\"Critical t-value: {t_critical}\")\n",
        "print(f\"Confidence Interval for Population Mean: ({confidence_interval[0]}, {confidence_interval[1]})\")\n"
      ]
    },
    {
      "cell_type": "markdown",
      "metadata": {
        "id": "aRrG4hxvlqRU"
      },
      "source": [
        "# Small Two-Sample t-Test for Population Mean"
      ]
    },
    {
      "cell_type": "markdown",
      "metadata": {
        "id": "BcPvnj1NX1DJ"
      },
      "source": [
        "**Hypothesis Statements:**\n",
        "* **Null Hypothesis (H0):** There is no significant difference in the average age between the two random samples.\n",
        "* **Alternative Hypothesis (Ha):** There is a significant difference in the average age between the two random samples."
      ]
    },
    {
      "cell_type": "code",
      "execution_count": 28,
      "metadata": {
        "colab": {
          "base_uri": "https://localhost:8080/"
        },
        "id": "w5agmGH_X1DJ",
        "outputId": "4ccec3cf-3263-464d-af64-48f8eb050a56"
      },
      "outputs": [
        {
          "name": "stdout",
          "output_type": "stream",
          "text": [
            "Fail to reject the null hypothesis (H0). There is no significant difference in the average age between the two random samples.\n",
            "t-statistic: 0.6657288857568208\n",
            "P-value: 0.5109296556434135\n",
            "Confidence Interval for Difference in Means: (-3.713618121791156, 7.373618121791153)\n"
          ]
        }
      ],
      "source": [
        "from scipy import stats\n",
        "import pandas as pd\n",
        "\n",
        "df = pd.read_csv('population.csv')\n",
        "\n",
        "sample_size_A = 20\n",
        "sample_size_B = 25\n",
        "\n",
        "sample_A = df['Age'].sample(n=sample_size_A, random_state=42)\n",
        "sample_B = df['Age'].sample(n=sample_size_B, random_state=43)\n",
        "\n",
        "alpha = 0.05\n",
        "\n",
        "t_stat, p_value = stats.ttest_ind(sample_A, sample_B, equal_var=False)\n",
        "\n",
        "null_hypothesis = \"There is no significant difference in the average age between the two random samples.\"\n",
        "alternative_hypothesis = \"There is a significant difference in the average age between the two random samples.\"\n",
        "\n",
        "mean_diff = sample_A.mean() - sample_B.mean()\n",
        "var_A = sample_A.var()\n",
        "var_B = sample_B.var()\n",
        "n_A = len(sample_A)\n",
        "n_B = len(sample_B)\n",
        "se = ((var_A / n_A) + (var_B / n_B))**0.5\n",
        "margin_of_error = stats.t.ppf(1 - alpha / 2, df=(n_A + n_B - 2)) * se\n",
        "confidence_interval = (mean_diff - margin_of_error, mean_diff + margin_of_error)\n",
        "\n",
        "if p_value < alpha:\n",
        "    print(f\"Reject the null hypothesis (H0). {alternative_hypothesis}\")\n",
        "else:\n",
        "    print(f\"Fail to reject the null hypothesis (H0). {null_hypothesis}\")\n",
        "\n",
        "print(f\"t-statistic: {t_stat}\")\n",
        "print(f\"P-value: {p_value}\")\n",
        "print(f\"Confidence Interval for Difference in Means: ({confidence_interval[0]}, {confidence_interval[1]})\")\n"
      ]
    },
    {
      "cell_type": "markdown",
      "metadata": {
        "id": "9ruArOa9X1DK"
      },
      "source": [
        "_______________________\n",
        "# One sample proportion test - z-val"
      ]
    },
    {
      "cell_type": "markdown",
      "metadata": {
        "id": "8SN2wnO2X1DK"
      },
      "source": [
        "* **Hypothesis:** Testing if observed gender proportions significantly differ from an equal distribution (50% 'Male' and 50% 'Female').\n",
        "* **Null Hypothesis (H0):** No significant difference, gender distribution equals 50% 'Male' and 50% 'Female.'\n",
        "* **Alternative Hypothesis (Ha):** Significant difference exists, deviating from equal distribution. Code uses proportion test to accept or reject H0 based on Z-scores and critical values."
      ]
    },
    {
      "cell_type": "code",
      "execution_count": 29,
      "metadata": {
        "colab": {
          "base_uri": "https://localhost:8080/"
        },
        "id": "wk153PNJX1DK",
        "outputId": "38b917cb-350f-4891-b0e7-9cf17a637899"
      },
      "outputs": [
        {
          "name": "stdout",
          "output_type": "stream",
          "text": [
            "Reject the null hypothesis (H0) for 'Male'. The observed proportion is significantly different from 0.05.\n",
            "Reject the null hypothesis (H0) for 'Female'. The observed proportion is significantly different from 0.05.\n",
            "Z-score for 'Male': 120.3089970653409\n",
            "Confidence Interval for 'Male': (0.8135533423847551, 0.7890739154149166)\n",
            "Z-score for 'Female': 23.809375334426004\n",
            "Confidence Interval for 'Female': (0.21092608458508352, 0.1864466576152449)\n"
          ]
        }
      ],
      "source": [
        "from scipy import stats\n",
        "import pandas as pd\n",
        "import numpy as np\n",
        "\n",
        "df = pd.read_csv('population.csv')\n",
        "\n",
        "p_hypothesis = 0.05\n",
        "male_count = df[df['Gender'] == 'Male'].shape[0]\n",
        "female_count = df[df['Gender'] == 'Female'].shape[0]\n",
        "\n",
        "total_observations = df.shape[0]\n",
        "\n",
        "observed_proportion_male = male_count / total_observations\n",
        "observed_proportion_female = female_count / total_observations\n",
        "\n",
        "se_male = np.sqrt((p_hypothesis * (1 - p_hypothesis)) / total_observations)\n",
        "se_female = np.sqrt((p_hypothesis * (1 - p_hypothesis)) / total_observations)\n",
        "\n",
        "z_score_male = (observed_proportion_male - p_hypothesis) / se_male\n",
        "z_score_female = (observed_proportion_female - p_hypothesis) / se_female\n",
        "\n",
        "alpha = 0.05\n",
        "\n",
        "z_critical_lower = -stats.norm.ppf(1 - alpha / 2)\n",
        "z_critical_upper = stats.norm.ppf(1 - alpha / 2)\n",
        "\n",
        "margin_of_error_male = z_critical_lower * se_male\n",
        "margin_of_error_female = z_critical_lower * se_female\n",
        "\n",
        "confidence_interval_male = (\n",
        "    observed_proportion_male - margin_of_error_male,\n",
        "    observed_proportion_male + margin_of_error_male\n",
        ")\n",
        "\n",
        "confidence_interval_female = (\n",
        "    observed_proportion_female - margin_of_error_female,\n",
        "    observed_proportion_female + margin_of_error_female\n",
        ")\n",
        "\n",
        "if z_score_male < -z_critical_lower or z_score_male > z_critical_upper:\n",
        "    print(f\"Reject the null hypothesis (H0) for 'Male'. The observed proportion is significantly different from {p_hypothesis}.\")\n",
        "else:\n",
        "    print(f\"Fail to reject the null hypothesis (H0) for 'Male'. The observed proportion is not significantly different from {p_hypothesis}.\")\n",
        "\n",
        "if z_score_female < -z_critical_lower or z_score_female > z_critical_upper:\n",
        "    print(f\"Reject the null hypothesis (H0) for 'Female'. The observed proportion is significantly different from {p_hypothesis}.\")\n",
        "else:\n",
        "    print(f\"Fail to reject the null hypothesis (H0) for 'Female'. The observed proportion is not significantly different from {p_hypothesis}.\")\n",
        "\n",
        "print(f\"Z-score for 'Male': {z_score_male}\")\n",
        "print(f\"Confidence Interval for 'Male': ({confidence_interval_male[0]}, {confidence_interval_male[1]})\")\n",
        "print(f\"Z-score for 'Female': {z_score_female}\")\n",
        "print(f\"Confidence Interval for 'Female': ({confidence_interval_female[0]}, {confidence_interval_female[1]})\")"
      ]
    },
    {
      "cell_type": "markdown",
      "metadata": {
        "id": "gjhUCst_X1DL"
      },
      "source": [
        "______________________________\n",
        "# Two sample proportion test"
      ]
    },
    {
      "cell_type": "markdown",
      "metadata": {
        "id": "bWaMdYLFknrz"
      },
      "source": [
        "* **Analysis:** Compares proportions of 'Yes' in 'family_history' between 'Male' and 'Female' groups in a dataset.\n",
        "* **Testing:** Calculates Z-score to assess the significance of the difference, using a 5% significance level (alpha).\n",
        "* **Conclusion:** Determines whether to reject the null hypothesis based on Z-score compared to critical values, indicating significant or non-significant differences in proportions."
      ]
    },
    {
      "cell_type": "code",
      "execution_count": 30,
      "metadata": {
        "colab": {
          "base_uri": "https://localhost:8080/"
        },
        "id": "an5Jx4oPX1DM",
        "outputId": "10df7e5f-ce0a-4d88-801b-69c8ca2cbd94"
      },
      "outputs": [
        {
          "name": "stdout",
          "output_type": "stream",
          "text": [
            "Reject the null hypothesis (H0). \n",
            "The proportions of 'Yes' are significantly different between 'Male' and 'Female' groups.\n",
            "Z-score: -5.338838299426225\n",
            "Confidence Interval: (-0.11821054362367532, -0.25534994953443335)\n"
          ]
        }
      ],
      "source": [
        "from scipy import stats\n",
        "import pandas as pd\n",
        "import numpy as np\n",
        "\n",
        "df = pd.read_csv('population.csv')\n",
        "\n",
        "group_male = df[df['Gender'] == 'Male']\n",
        "group_female = df[df['Gender'] == 'Female']\n",
        "\n",
        "category_of_interest = 'Yes'\n",
        "\n",
        "prop_male = (group_male['family_history'] == category_of_interest).mean()\n",
        "prop_female = (group_female['family_history'] == category_of_interest).mean()\n",
        "\n",
        "n_male = group_male.shape[0]\n",
        "n_female = group_female.shape[0]\n",
        "\n",
        "pooled_proportion = (prop_male * n_male + prop_female * n_female) / (n_male + n_female)\n",
        "se = np.sqrt(pooled_proportion * (1 - pooled_proportion) * (1 / n_male + 1 / n_female))\n",
        "\n",
        "z_score = (prop_male - prop_female) / se\n",
        "\n",
        "alpha = 0.05\n",
        "\n",
        "z_critical_lower = -stats.norm.ppf(1 - alpha / 2)\n",
        "z_critical_upper = stats.norm.ppf(1 - alpha / 2)\n",
        "\n",
        "margin_of_error = z_critical_lower * se\n",
        "confidence_interval = (prop_male - prop_female - margin_of_error, prop_male - prop_female + margin_of_error)\n",
        "\n",
        "if z_score < -z_critical_lower or z_score > z_critical_upper:\n",
        "    print(f\"Reject the null hypothesis (H0). \\nThe proportions of '{category_of_interest}' are significantly different between 'Male' and 'Female' groups.\")\n",
        "else:\n",
        "    print(f\"Fail to reject the null hypothesis (H0). \\nThere is no significant difference in the proportions of '{category_of_interest}' between 'Male' and 'Female' groups.\")\n",
        "\n",
        "print(f\"Z-score: {z_score}\")\n",
        "print(f\"Confidence Interval: ({confidence_interval[0]}, {confidence_interval[1]})\")\n"
      ]
    },
    {
      "cell_type": "markdown",
      "metadata": {},
      "source": [
        "___"
      ]
    },
    {
      "cell_type": "markdown",
      "metadata": {},
      "source": [
        "<center> ***<i> Thank You Sir </i>***</center>"
      ]
    }
  ],
  "metadata": {
    "colab": {
      "provenance": []
    },
    "kernelspec": {
      "display_name": "Python 3 (ipykernel)",
      "language": "python",
      "name": "python3"
    },
    "language_info": {
      "name": "python",
      "version": "3.10.4"
    },
    "orig_nbformat": 4
  },
  "nbformat": 4,
  "nbformat_minor": 0
}
